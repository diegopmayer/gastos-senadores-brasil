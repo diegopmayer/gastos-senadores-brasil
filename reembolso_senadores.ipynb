{
 "cells": [
  {
   "cell_type": "markdown",
   "metadata": {},
   "source": [
    "# Análise de dados dos reembolsos dos gastos realizados pelos senadores\n",
    "Análise inicial de 2018\n",
    "Link -> https://www12.senado.leg.br/transparencia/dados-abertos-transparencia/dados-abertos-ceaps"
   ]
  },
  {
   "cell_type": "code",
   "execution_count": 1,
   "metadata": {},
   "outputs": [],
   "source": [
    "import pandas as pd"
   ]
  },
  {
   "cell_type": "code",
   "execution_count": 23,
   "metadata": {},
   "outputs": [],
   "source": [
    "# carregar o arquivo csv\n",
    "df = pd.read_csv('2018.csv', sep=';', encoding='latin1', skiprows=1,\n",
    "                decimal=',')"
   ]
  },
  {
   "cell_type": "code",
   "execution_count": 24,
   "metadata": {},
   "outputs": [
    {
     "data": {
      "text/html": [
       "<div>\n",
       "<style scoped>\n",
       "    .dataframe tbody tr th:only-of-type {\n",
       "        vertical-align: middle;\n",
       "    }\n",
       "\n",
       "    .dataframe tbody tr th {\n",
       "        vertical-align: top;\n",
       "    }\n",
       "\n",
       "    .dataframe thead th {\n",
       "        text-align: right;\n",
       "    }\n",
       "</style>\n",
       "<table border=\"1\" class=\"dataframe\">\n",
       "  <thead>\n",
       "    <tr style=\"text-align: right;\">\n",
       "      <th></th>\n",
       "      <th>ANO</th>\n",
       "      <th>MES</th>\n",
       "      <th>SENADOR</th>\n",
       "      <th>TIPO_DESPESA</th>\n",
       "      <th>CNPJ_CPF</th>\n",
       "      <th>FORNECEDOR</th>\n",
       "      <th>DOCUMENTO</th>\n",
       "      <th>DATA</th>\n",
       "      <th>DETALHAMENTO</th>\n",
       "      <th>VALOR_REEMBOLSADO</th>\n",
       "    </tr>\n",
       "  </thead>\n",
       "  <tbody>\n",
       "    <tr>\n",
       "      <th>0</th>\n",
       "      <td>2018</td>\n",
       "      <td>1</td>\n",
       "      <td>ACIR GURGACZ</td>\n",
       "      <td>Aluguel de imóveis para escritório político, c...</td>\n",
       "      <td>004.948.028-63</td>\n",
       "      <td>GILBERTO PISELO DO NASCIMENTO</td>\n",
       "      <td>NaN</td>\n",
       "      <td>02/01/2018</td>\n",
       "      <td>Despesa com pagamento de aluguel de imóvel par...</td>\n",
       "      <td>6000.00</td>\n",
       "    </tr>\n",
       "    <tr>\n",
       "      <th>1</th>\n",
       "      <td>2018</td>\n",
       "      <td>1</td>\n",
       "      <td>ACIR GURGACZ</td>\n",
       "      <td>Passagens aéreas, aquáticas e terrestres nacio...</td>\n",
       "      <td>63.764.211/0001-10</td>\n",
       "      <td>TRANSCONTINENTAL AGÊNCIA DE VIAGENS LTDA</td>\n",
       "      <td>M2CJMM</td>\n",
       "      <td>02/01/2018</td>\n",
       "      <td>Companhia Aérea: AVIANCA, Localizador: M2CJMM....</td>\n",
       "      <td>274.99</td>\n",
       "    </tr>\n",
       "    <tr>\n",
       "      <th>2</th>\n",
       "      <td>2018</td>\n",
       "      <td>1</td>\n",
       "      <td>ACIR GURGACZ</td>\n",
       "      <td>Passagens aéreas, aquáticas e terrestres nacio...</td>\n",
       "      <td>63.764.211/0001-10</td>\n",
       "      <td>TRANSCONTINENTAL AGÊNCIA DE VIAGENS LTDA</td>\n",
       "      <td>SFEXYF</td>\n",
       "      <td>02/01/2018</td>\n",
       "      <td>Companhia Aérea: LATAM, Localizador: SFEXYF. P...</td>\n",
       "      <td>1094.29</td>\n",
       "    </tr>\n",
       "    <tr>\n",
       "      <th>3</th>\n",
       "      <td>2018</td>\n",
       "      <td>1</td>\n",
       "      <td>ACIR GURGACZ</td>\n",
       "      <td>Passagens aéreas, aquáticas e terrestres nacio...</td>\n",
       "      <td>63.764.211/0001-10</td>\n",
       "      <td>TRANSCONTINENTAL AGÊNCIA DE VIAGENS LTDA</td>\n",
       "      <td>V64HTR</td>\n",
       "      <td>24/01/2018</td>\n",
       "      <td>Companhia Aérea: AZUL, Localizador: V64HTR. Pa...</td>\n",
       "      <td>1553.99</td>\n",
       "    </tr>\n",
       "    <tr>\n",
       "      <th>4</th>\n",
       "      <td>2018</td>\n",
       "      <td>2</td>\n",
       "      <td>ACIR GURGACZ</td>\n",
       "      <td>Aluguel de imóveis para escritório político, c...</td>\n",
       "      <td>004.948.028-63</td>\n",
       "      <td>GILBERTO PISELO DO NASCIMENTO</td>\n",
       "      <td>002/18</td>\n",
       "      <td>01/02/2018</td>\n",
       "      <td>Despesa com pagamento de aluguel de imóvel par...</td>\n",
       "      <td>6000.00</td>\n",
       "    </tr>\n",
       "  </tbody>\n",
       "</table>\n",
       "</div>"
      ],
      "text/plain": [
       "    ANO  MES       SENADOR                                       TIPO_DESPESA  \\\n",
       "0  2018    1  ACIR GURGACZ  Aluguel de imóveis para escritório político, c...   \n",
       "1  2018    1  ACIR GURGACZ  Passagens aéreas, aquáticas e terrestres nacio...   \n",
       "2  2018    1  ACIR GURGACZ  Passagens aéreas, aquáticas e terrestres nacio...   \n",
       "3  2018    1  ACIR GURGACZ  Passagens aéreas, aquáticas e terrestres nacio...   \n",
       "4  2018    2  ACIR GURGACZ  Aluguel de imóveis para escritório político, c...   \n",
       "\n",
       "             CNPJ_CPF                                FORNECEDOR DOCUMENTO  \\\n",
       "0      004.948.028-63             GILBERTO PISELO DO NASCIMENTO       NaN   \n",
       "1  63.764.211/0001-10  TRANSCONTINENTAL AGÊNCIA DE VIAGENS LTDA    M2CJMM   \n",
       "2  63.764.211/0001-10  TRANSCONTINENTAL AGÊNCIA DE VIAGENS LTDA    SFEXYF   \n",
       "3  63.764.211/0001-10  TRANSCONTINENTAL AGÊNCIA DE VIAGENS LTDA    V64HTR   \n",
       "4      004.948.028-63             GILBERTO PISELO DO NASCIMENTO    002/18   \n",
       "\n",
       "         DATA                                       DETALHAMENTO  \\\n",
       "0  02/01/2018  Despesa com pagamento de aluguel de imóvel par...   \n",
       "1  02/01/2018  Companhia Aérea: AVIANCA, Localizador: M2CJMM....   \n",
       "2  02/01/2018  Companhia Aérea: LATAM, Localizador: SFEXYF. P...   \n",
       "3  24/01/2018  Companhia Aérea: AZUL, Localizador: V64HTR. Pa...   \n",
       "4  01/02/2018  Despesa com pagamento de aluguel de imóvel par...   \n",
       "\n",
       "   VALOR_REEMBOLSADO  \n",
       "0            6000.00  \n",
       "1             274.99  \n",
       "2            1094.29  \n",
       "3            1553.99  \n",
       "4            6000.00  "
      ]
     },
     "execution_count": 24,
     "metadata": {},
     "output_type": "execute_result"
    }
   ],
   "source": [
    "df.head()"
   ]
  },
  {
   "cell_type": "code",
   "execution_count": 25,
   "metadata": {},
   "outputs": [
    {
     "name": "stdout",
     "output_type": "stream",
     "text": [
      "<class 'pandas.core.frame.DataFrame'>\n",
      "RangeIndex: 24444 entries, 0 to 24443\n",
      "Data columns (total 10 columns):\n",
      "ANO                  24444 non-null int64\n",
      "MES                  24444 non-null int64\n",
      "SENADOR              24444 non-null object\n",
      "TIPO_DESPESA         24444 non-null object\n",
      "CNPJ_CPF             24444 non-null object\n",
      "FORNECEDOR           24444 non-null object\n",
      "DOCUMENTO            23455 non-null object\n",
      "DATA                 24444 non-null object\n",
      "DETALHAMENTO         18848 non-null object\n",
      "VALOR_REEMBOLSADO    24444 non-null float64\n",
      "dtypes: float64(1), int64(2), object(7)\n",
      "memory usage: 1.9+ MB\n"
     ]
    }
   ],
   "source": [
    "# tamanhos e tipos de dados\n",
    "df.info()"
   ]
  },
  {
   "cell_type": "code",
   "execution_count": 26,
   "metadata": {},
   "outputs": [
    {
     "data": {
      "text/html": [
       "<div>\n",
       "<style scoped>\n",
       "    .dataframe tbody tr th:only-of-type {\n",
       "        vertical-align: middle;\n",
       "    }\n",
       "\n",
       "    .dataframe tbody tr th {\n",
       "        vertical-align: top;\n",
       "    }\n",
       "\n",
       "    .dataframe thead th {\n",
       "        text-align: right;\n",
       "    }\n",
       "</style>\n",
       "<table border=\"1\" class=\"dataframe\">\n",
       "  <thead>\n",
       "    <tr style=\"text-align: right;\">\n",
       "      <th></th>\n",
       "      <th>ANO</th>\n",
       "      <th>MES</th>\n",
       "      <th>VALOR_REEMBOLSADO</th>\n",
       "    </tr>\n",
       "  </thead>\n",
       "  <tbody>\n",
       "    <tr>\n",
       "      <th>count</th>\n",
       "      <td>24444.0</td>\n",
       "      <td>24444.000000</td>\n",
       "      <td>24444.000000</td>\n",
       "    </tr>\n",
       "    <tr>\n",
       "      <th>mean</th>\n",
       "      <td>2018.0</td>\n",
       "      <td>6.193585</td>\n",
       "      <td>1046.806915</td>\n",
       "    </tr>\n",
       "    <tr>\n",
       "      <th>std</th>\n",
       "      <td>0.0</td>\n",
       "      <td>3.306265</td>\n",
       "      <td>2721.041726</td>\n",
       "    </tr>\n",
       "    <tr>\n",
       "      <th>min</th>\n",
       "      <td>2018.0</td>\n",
       "      <td>1.000000</td>\n",
       "      <td>0.010000</td>\n",
       "    </tr>\n",
       "    <tr>\n",
       "      <th>25%</th>\n",
       "      <td>2018.0</td>\n",
       "      <td>3.000000</td>\n",
       "      <td>125.000000</td>\n",
       "    </tr>\n",
       "    <tr>\n",
       "      <th>50%</th>\n",
       "      <td>2018.0</td>\n",
       "      <td>6.000000</td>\n",
       "      <td>288.090000</td>\n",
       "    </tr>\n",
       "    <tr>\n",
       "      <th>75%</th>\n",
       "      <td>2018.0</td>\n",
       "      <td>9.000000</td>\n",
       "      <td>1036.170000</td>\n",
       "    </tr>\n",
       "    <tr>\n",
       "      <th>max</th>\n",
       "      <td>2018.0</td>\n",
       "      <td>12.000000</td>\n",
       "      <td>103900.000000</td>\n",
       "    </tr>\n",
       "  </tbody>\n",
       "</table>\n",
       "</div>"
      ],
      "text/plain": [
       "           ANO           MES  VALOR_REEMBOLSADO\n",
       "count  24444.0  24444.000000       24444.000000\n",
       "mean    2018.0      6.193585        1046.806915\n",
       "std        0.0      3.306265        2721.041726\n",
       "min     2018.0      1.000000           0.010000\n",
       "25%     2018.0      3.000000         125.000000\n",
       "50%     2018.0      6.000000         288.090000\n",
       "75%     2018.0      9.000000        1036.170000\n",
       "max     2018.0     12.000000      103900.000000"
      ]
     },
     "execution_count": 26,
     "metadata": {},
     "output_type": "execute_result"
    }
   ],
   "source": [
    "# Análise quantitativa dos dados\n",
    "df.describe()"
   ]
  },
  {
   "cell_type": "code",
   "execution_count": 28,
   "metadata": {},
   "outputs": [
    {
     "data": {
      "text/plain": [
       "25588148.22"
      ]
     },
     "execution_count": 28,
     "metadata": {},
     "output_type": "execute_result"
    }
   ],
   "source": [
    "df['VALOR_REEMBOLSADO'].sum()"
   ]
  },
  {
   "cell_type": "code",
   "execution_count": 29,
   "metadata": {},
   "outputs": [
    {
     "data": {
      "text/plain": [
       "EDUARDO LOPES                    864\n",
       "PAULO BAUER                      824\n",
       "WELLINGTON FAGUNDES              799\n",
       "JOSÉ SERRA                       694\n",
       "GLEISI HOFFMANN                  653\n",
       "HUMBERTO COSTA                   648\n",
       "LÍDICE DA MATA                   628\n",
       "JOSÉ MEDEIROS                    594\n",
       "FERNANDO BEZERRA COELHO          560\n",
       "ARMANDO MONTEIRO                 550\n",
       "PAULO PAIM                       547\n",
       "JOÃO CAPIBERIBE                  534\n",
       "ANA AMÉLIA                       495\n",
       "RONALDO CAIADO                   486\n",
       "JOSÉ PIMENTEL                    477\n",
       "PEDRO CHAVES DOS SANTOS FILHO    440\n",
       "EDUARDO AMORIM                   438\n",
       "ROBERTO REQUIÃO                  436\n",
       "PAULO ROCHA                      424\n",
       "ROMERO JUCÁ                      415\n",
       "FÁTIMA BEZERRA                   407\n",
       "MARTA SUPLICY                    398\n",
       "ROBERTO MUNIZ                    379\n",
       "WALDEMIR MOKA                    370\n",
       "AIRTON SANDOVAL                  363\n",
       "CÁSSIO CUNHA LIMA                362\n",
       "DALIRIO BEBER                    361\n",
       "ZEZÉ PERRELLA                    360\n",
       "JORGE VIANA                      356\n",
       "VANESSA GRAZZIOTIN               349\n",
       "                                ... \n",
       "EDUARDO BRAGA                    132\n",
       "OTTO ALENCAR                     132\n",
       "MARIA DO CARMO ALVES             129\n",
       "JOÃO ALBERTO SOUZA               125\n",
       "ANTÔNIO CARLOS VALADARES         117\n",
       "ACIR GURGACZ                     114\n",
       "PASTOR BEL                       113\n",
       "RUDSON LEITE                     111\n",
       "DAVI ALCOLUMBRE                  111\n",
       "HÉLIO JOSÉ                       109\n",
       "JOSÉ AMAURI                      101\n",
       "REDITARIO CASSOL                  87\n",
       "GUARACY SILVEIRA                  79\n",
       "SÉRGIO PETECÃO                    75\n",
       "KÁTIA ABREU                       72\n",
       "SÉRGIO DE CASTRO                  66\n",
       "RODRIGUES PALMA                   62\n",
       "GIVAGO TENÓRIO                    57\n",
       "WALTER PINHEIRO                   51\n",
       "VICENTINHO ALVES                  51\n",
       "EDISON LOBÃO                      49\n",
       "ELBER BATALHA                     47\n",
       "TASSO JEREISSATI                  44\n",
       "IONE GUIMARÃES                    44\n",
       "OMAR AZIZ                         42\n",
       "ALVARO DIAS                       40\n",
       "FERNANDO COLLOR                   27\n",
       "JADER BARBALHO                    19\n",
       "CRISTOVAM BUARQUE                 16\n",
       "ZÉ SANTANA                         8\n",
       "Name: SENADOR, Length: 91, dtype: int64"
      ]
     },
     "execution_count": 29,
     "metadata": {},
     "output_type": "execute_result"
    }
   ],
   "source": [
    "df['SENADOR'].value_counts()"
   ]
  },
  {
   "cell_type": "code",
   "execution_count": null,
   "metadata": {},
   "outputs": [],
   "source": []
  }
 ],
 "metadata": {
  "kernelspec": {
   "display_name": "Python 3",
   "language": "python",
   "name": "python3"
  },
  "language_info": {
   "codemirror_mode": {
    "name": "ipython",
    "version": 3
   },
   "file_extension": ".py",
   "mimetype": "text/x-python",
   "name": "python",
   "nbconvert_exporter": "python",
   "pygments_lexer": "ipython3",
   "version": "3.7.3"
  }
 },
 "nbformat": 4,
 "nbformat_minor": 2
}
